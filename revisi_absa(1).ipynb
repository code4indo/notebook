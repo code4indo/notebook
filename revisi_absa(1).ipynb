{
 "cells": [
  {
   "cell_type": "code",
   "execution_count": 14,
   "id": "90edf242-cc70-4d3d-83d2-a36c42b2823c",
   "metadata": {},
   "outputs": [],
   "source": [
    "# Membuat Model Absa "
   ]
  },
  {
   "cell_type": "code",
   "execution_count": 16,
   "id": "57974e45-afeb-4e7f-9238-90a65005babb",
   "metadata": {},
   "outputs": [],
   "source": [
    "import pandas as pd \n",
    "import numpy as np "
   ]
  },
  {
   "cell_type": "code",
   "execution_count": 17,
   "id": "2ce720af-7636-449b-9d16-365750adf023",
   "metadata": {},
   "outputs": [],
   "source": [
    "data = pd.read_csv(\"Restaurants_Train_v2.csv\")"
   ]
  },
  {
   "cell_type": "code",
   "execution_count": 18,
   "id": "34801f2a-ff38-4590-a378-500ea4717008",
   "metadata": {},
   "outputs": [
    {
     "data": {
      "text/html": [
       "<div>\n",
       "<style scoped>\n",
       "    .dataframe tbody tr th:only-of-type {\n",
       "        vertical-align: middle;\n",
       "    }\n",
       "\n",
       "    .dataframe tbody tr th {\n",
       "        vertical-align: top;\n",
       "    }\n",
       "\n",
       "    .dataframe thead th {\n",
       "        text-align: right;\n",
       "    }\n",
       "</style>\n",
       "<table border=\"1\" class=\"dataframe\">\n",
       "  <thead>\n",
       "    <tr style=\"text-align: right;\">\n",
       "      <th></th>\n",
       "      <th>id</th>\n",
       "      <th>Sentence</th>\n",
       "      <th>Aspect Term</th>\n",
       "      <th>polarity</th>\n",
       "      <th>from</th>\n",
       "      <th>to</th>\n",
       "    </tr>\n",
       "  </thead>\n",
       "  <tbody>\n",
       "    <tr>\n",
       "      <th>0</th>\n",
       "      <td>3121</td>\n",
       "      <td>But the staff was so horrible to us.</td>\n",
       "      <td>staff</td>\n",
       "      <td>negative</td>\n",
       "      <td>8</td>\n",
       "      <td>13</td>\n",
       "    </tr>\n",
       "    <tr>\n",
       "      <th>1</th>\n",
       "      <td>2777</td>\n",
       "      <td>To be completely fair, the only redeeming fact...</td>\n",
       "      <td>food</td>\n",
       "      <td>positive</td>\n",
       "      <td>57</td>\n",
       "      <td>61</td>\n",
       "    </tr>\n",
       "    <tr>\n",
       "      <th>2</th>\n",
       "      <td>1634</td>\n",
       "      <td>The food is uniformly exceptional, with a very...</td>\n",
       "      <td>food</td>\n",
       "      <td>positive</td>\n",
       "      <td>4</td>\n",
       "      <td>8</td>\n",
       "    </tr>\n",
       "    <tr>\n",
       "      <th>3</th>\n",
       "      <td>1634</td>\n",
       "      <td>The food is uniformly exceptional, with a very...</td>\n",
       "      <td>kitchen</td>\n",
       "      <td>positive</td>\n",
       "      <td>55</td>\n",
       "      <td>62</td>\n",
       "    </tr>\n",
       "    <tr>\n",
       "      <th>4</th>\n",
       "      <td>1634</td>\n",
       "      <td>The food is uniformly exceptional, with a very...</td>\n",
       "      <td>menu</td>\n",
       "      <td>neutral</td>\n",
       "      <td>141</td>\n",
       "      <td>145</td>\n",
       "    </tr>\n",
       "  </tbody>\n",
       "</table>\n",
       "</div>"
      ],
      "text/plain": [
       "     id                                           Sentence Aspect Term  \\\n",
       "0  3121               But the staff was so horrible to us.       staff   \n",
       "1  2777  To be completely fair, the only redeeming fact...        food   \n",
       "2  1634  The food is uniformly exceptional, with a very...        food   \n",
       "3  1634  The food is uniformly exceptional, with a very...     kitchen   \n",
       "4  1634  The food is uniformly exceptional, with a very...        menu   \n",
       "\n",
       "   polarity  from   to  \n",
       "0  negative     8   13  \n",
       "1  positive    57   61  \n",
       "2  positive     4    8  \n",
       "3  positive    55   62  \n",
       "4   neutral   141  145  "
      ]
     },
     "execution_count": 18,
     "metadata": {},
     "output_type": "execute_result"
    }
   ],
   "source": [
    "data.shape\n",
    "data.head()\n",
    "#data[\"Sentence\"][0:4]"
   ]
  },
  {
   "cell_type": "code",
   "execution_count": 19,
   "id": "30b6e181-edf0-4a14-a275-6fc784bce059",
   "metadata": {},
   "outputs": [],
   "source": [
    "# Data Pre-Processing"
   ]
  },
  {
   "cell_type": "code",
   "execution_count": 20,
   "id": "e65469ae-d324-44cf-a4eb-ad19f08e6ca4",
   "metadata": {},
   "outputs": [
    {
     "data": {
      "text/plain": [
       "id             0\n",
       "Sentence       0\n",
       "Aspect Term    0\n",
       "polarity       0\n",
       "from           0\n",
       "to             0\n",
       "dtype: int64"
      ]
     },
     "execution_count": 20,
     "metadata": {},
     "output_type": "execute_result"
    }
   ],
   "source": [
    "# dari hasil, tidak ada data yang kosong \n",
    "data.isnull().sum()"
   ]
  },
  {
   "cell_type": "code",
   "execution_count": 21,
   "id": "2bb19c90-d383-4453-a81c-3cd359e3ae98",
   "metadata": {},
   "outputs": [
    {
     "name": "stdout",
     "output_type": "stream",
     "text": [
      "Jumlah data: 3693\n",
      "Jumlah data duplikat: 1674\n"
     ]
    }
   ],
   "source": [
    "# jumlah data duplikat, ini karena setiap kalimat bisa jadi memiliki lebih dari satu aspek \n",
    "\n",
    "jml_data = len(data)\n",
    "print(f'Jumlah data:', jml_data)\n",
    "duplikat = data['Sentence'].duplicated().sum()\n",
    "print(f'Jumlah data duplikat:', duplikat)"
   ]
  },
  {
   "cell_type": "code",
   "execution_count": 22,
   "id": "9ff5a4ac-8e5f-4bd1-95eb-f2370ecca477",
   "metadata": {},
   "outputs": [
    {
     "name": "stdout",
     "output_type": "stream",
     "text": [
      "2019\n"
     ]
    }
   ],
   "source": [
    "# jumlah data unik \n",
    "unik = len(pd.unique(data['Sentence']))\n",
    "print(unik)"
   ]
  },
  {
   "cell_type": "code",
   "execution_count": 23,
   "id": "06d2f6bb-4726-48e3-990b-0767982661b4",
   "metadata": {},
   "outputs": [
    {
     "data": {
      "text/plain": [
       "<Axes: xlabel='polarity', ylabel='count'>"
      ]
     },
     "execution_count": 23,
     "metadata": {},
     "output_type": "execute_result"
    },
    {
     "data": {
      "image/png": "[encoded data removed]",
      "text/plain": [
       "<Figure size 640x480 with 1 Axes>"
      ]
     },
     "metadata": {},
     "output_type": "display_data"
    }
   ],
   "source": [
    "# Analisis \n",
    "import matplotlib.pyplot as plt \n",
    "import seaborn as sns\n",
    "sns.countplot(data=data, x='polarity')"
   ]
  },
  {
   "cell_type": "code",
   "execution_count": 24,
   "id": "bc1b79c2-4fad-4518-8be7-23f8a15cb8d8",
   "metadata": {},
   "outputs": [
    {
     "data": {
      "text/plain": [
       "<BarContainer object of 2 artists>"
      ]
     },
     "execution_count": 24,
     "metadata": {},
     "output_type": "execute_result"
    },
    {
     "data": {
      "image/png": "[encoded data removed]",
      "text/plain": [
       "<Figure size 640x480 with 1 Axes>"
      ]
     },
     "metadata": {},
     "output_type": "display_data"
    }
   ],
   "source": [
    "plt.bar(x=['Total','Unique Sentence'],height=[jml_data, unik])"
   ]
  },
  {
   "cell_type": "code",
   "execution_count": 25,
   "id": "0016c542-f4d3-4007-bb20-75674ce6f155",
   "metadata": {},
   "outputs": [],
   "source": [
    "# !pip install nltk spacy\n",
    "# !python -m spacy download en_core_web_sm"
   ]
  },
  {
   "cell_type": "markdown",
   "id": "bc86e32c-1086-4d43-ac9e-d5909847010c",
   "metadata": {},
   "source": [
    "membersihkan dan mempersiapkan teks agar lebih mudah dianalisis. Proses  mencakup:\n",
    "1. menghapus  kata-kata umum (stopwords), tanda baca, angka, serta melakukan stemming dan tokenisasi, sehingga teks menjadi lebih terstruktur"
   ]
  },
  {
   "cell_type": "code",
   "execution_count": 26,
   "id": "2006b5a0-775e-4a96-acb7-31de0d63161b",
   "metadata": {},
   "outputs": [],
   "source": [
    "import re\n",
    "import nltk\n",
    "import spacy\n",
    "from nltk.corpus import stopwords\n",
    "from nltk.stem import PorterStemmer\n",
    "from nltk.stem import WordNetLemmatizer\n",
    "from sklearn.feature_extraction.text import TfidfVectorizer"
   ]
  },
  {
   "cell_type": "code",
   "execution_count": 27,
   "id": "8bf2615a-35ec-4c64-a916-b08666d50d21",
   "metadata": {},
   "outputs": [
    {
     "name": "stderr",
     "output_type": "stream",
     "text": [
      "[nltk_data] Downloading package stopwords to\n",
      "[nltk_data]     /home/jatnikonm/nltk_data...\n",
      "[nltk_data]   Package stopwords is already up-to-date!\n",
      "[nltk_data] Downloading package punkt to /home/jatnikonm/nltk_data...\n",
      "[nltk_data]   Package punkt is already up-to-date!\n",
      "[nltk_data] Downloading package wordnet to\n",
      "[nltk_data]     /home/jatnikonm/nltk_data...\n",
      "[nltk_data]   Package wordnet is already up-to-date!\n",
      "[nltk_data] Downloading package punkt_tab to\n",
      "[nltk_data]     /home/jatnikonm/nltk_data...\n",
      "[nltk_data]   Package punkt_tab is already up-to-date!\n",
      "[nltk_data] Downloading package omw-1.4 to\n",
      "[nltk_data]     /home/jatnikonm/nltk_data...\n",
      "[nltk_data]   Package omw-1.4 is already up-to-date!\n",
      "/home/jatnikonm/.conda/envs/itb_env/lib/python3.11/site-packages/spacy/util.py:910: UserWarning: [W095] Model 'en_core_web_sm' (3.8.0) was trained with spaCy v3.8.0 and may not be 100% compatible with the current version (3.7.5). If you see errors or degraded performance, download a newer compatible model or retrain your custom model with the current spaCy version. For more details and available updates, run: python -m spacy validate\n",
      "  warnings.warn(warn_msg)\n"
     ]
    }
   ],
   "source": [
    "nltk.download('stopwords')\n",
    "nltk.download('punkt')\n",
    "nltk.download('wordnet')\n",
    "nltk.download('punkt_tab')\n",
    "nltk.download('omw-1.4')\n",
    "nlp = spacy.load('en_core_web_sm')\n",
    "\n",
    "# Initialize tools\n",
    "stop_words = set(stopwords.words('english'))\n",
    "stemmer = PorterStemmer()\n",
    "lemmatizer = WordNetLemmatizer()\n",
    "\n",
    "def preprocess(text):\n",
    "    text=text.lower()\n",
    "    text = re.sub(r'[^\\w\\s]', '', text)\n",
    "    tokens = nltk.word_tokenize(text)\n",
    "\n",
    "    tokens = [word for word in tokens if word not in stop_words]\n",
    "    tokens = [stemmer.stem(word) for word in tokens]\n",
    "\n",
    "\n",
    "   # menghapus angka\n",
    "    tokens = [ word for word in tokens if not word.isdigit()]\n",
    "    temp=''\n",
    "    for i in tokens:\n",
    "        temp=temp+i+' '\n",
    "    temp.strip()\n",
    "    return temp"
   ]
  },
  {
   "cell_type": "code",
   "execution_count": 28,
   "id": "f3d69d0a-de50-4eef-a1e5-1c56e2bd9a83",
   "metadata": {},
   "outputs": [
    {
     "name": "stdout",
     "output_type": "stream",
     "text": [
      "staff horribl us \n"
     ]
    }
   ],
   "source": [
    "# setelah di proses bentuk kalimat akan tampak seperti ini \n",
    "print(preprocess(\"but the staff was is horrible to us\"))#"
   ]
  },
  {
   "cell_type": "code",
   "execution_count": 29,
   "id": "ea020c68-dcba-4f73-88e7-111bd9c5e169",
   "metadata": {},
   "outputs": [],
   "source": [
    "# membersihkan dan memproses data teks pada kolom 'Sentence' dan 'Aspect Term' \n",
    "\n",
    "data[\"Sentence\"]=[preprocess(i) for i in data[\"Sentence\"]]\n",
    "data[\"Aspect Term\"]=[preprocess(i) for i in data[\"Aspect Term\"]]"
   ]
  },
  {
   "cell_type": "code",
   "execution_count": 30,
   "id": "fca18f33-8e9f-4d7a-9284-eb4e0d360a28",
   "metadata": {},
   "outputs": [],
   "source": [
    "# menghitung jumlah kata dalam setiap kalimat pada kolom 'Sentence' \n",
    "# dan menyimpannya dalam kolom baru bernama word_count\n",
    "\n",
    "word_count=[len(str(i).split(' '))-1 for i in data['Sentence']]\n",
    "data['word_count']=word_count"
   ]
  },
  {
   "cell_type": "code",
   "execution_count": 31,
   "id": "631c653f-362e-403c-9710-79e494ab9c83",
   "metadata": {},
   "outputs": [
    {
     "data": {
      "text/html": [
       "<div>\n",
       "<style scoped>\n",
       "    .dataframe tbody tr th:only-of-type {\n",
       "        vertical-align: middle;\n",
       "    }\n",
       "\n",
       "    .dataframe tbody tr th {\n",
       "        vertical-align: top;\n",
       "    }\n",
       "\n",
       "    .dataframe thead th {\n",
       "        text-align: right;\n",
       "    }\n",
       "</style>\n",
       "<table border=\"1\" class=\"dataframe\">\n",
       "  <thead>\n",
       "    <tr style=\"text-align: right;\">\n",
       "      <th></th>\n",
       "      <th>id</th>\n",
       "      <th>Sentence</th>\n",
       "      <th>Aspect Term</th>\n",
       "      <th>polarity</th>\n",
       "      <th>from</th>\n",
       "      <th>to</th>\n",
       "      <th>word_count</th>\n",
       "    </tr>\n",
       "  </thead>\n",
       "  <tbody>\n",
       "    <tr>\n",
       "      <th>0</th>\n",
       "      <td>3121</td>\n",
       "      <td>staff horribl us</td>\n",
       "      <td>staff</td>\n",
       "      <td>negative</td>\n",
       "      <td>8</td>\n",
       "      <td>13</td>\n",
       "      <td>3</td>\n",
       "    </tr>\n",
       "    <tr>\n",
       "      <th>1</th>\n",
       "      <td>2777</td>\n",
       "      <td>complet fair redeem factor food averag couldnt...</td>\n",
       "      <td>food</td>\n",
       "      <td>positive</td>\n",
       "      <td>57</td>\n",
       "      <td>61</td>\n",
       "      <td>10</td>\n",
       "    </tr>\n",
       "    <tr>\n",
       "      <th>2</th>\n",
       "      <td>1634</td>\n",
       "      <td>food uniformli except capabl kitchen proudli w...</td>\n",
       "      <td>food</td>\n",
       "      <td>positive</td>\n",
       "      <td>4</td>\n",
       "      <td>8</td>\n",
       "      <td>13</td>\n",
       "    </tr>\n",
       "    <tr>\n",
       "      <th>3</th>\n",
       "      <td>1634</td>\n",
       "      <td>food uniformli except capabl kitchen proudli w...</td>\n",
       "      <td>kitchen</td>\n",
       "      <td>positive</td>\n",
       "      <td>55</td>\n",
       "      <td>62</td>\n",
       "      <td>13</td>\n",
       "    </tr>\n",
       "    <tr>\n",
       "      <th>4</th>\n",
       "      <td>1634</td>\n",
       "      <td>food uniformli except capabl kitchen proudli w...</td>\n",
       "      <td>menu</td>\n",
       "      <td>neutral</td>\n",
       "      <td>141</td>\n",
       "      <td>145</td>\n",
       "      <td>13</td>\n",
       "    </tr>\n",
       "  </tbody>\n",
       "</table>\n",
       "</div>"
      ],
      "text/plain": [
       "     id                                           Sentence Aspect Term  \\\n",
       "0  3121                                  staff horribl us       staff    \n",
       "1  2777  complet fair redeem factor food averag couldnt...       food    \n",
       "2  1634  food uniformli except capabl kitchen proudli w...       food    \n",
       "3  1634  food uniformli except capabl kitchen proudli w...    kitchen    \n",
       "4  1634  food uniformli except capabl kitchen proudli w...       menu    \n",
       "\n",
       "   polarity  from   to  word_count  \n",
       "0  negative     8   13           3  \n",
       "1  positive    57   61          10  \n",
       "2  positive     4    8          13  \n",
       "3  positive    55   62          13  \n",
       "4   neutral   141  145          13  "
      ]
     },
     "execution_count": 31,
     "metadata": {},
     "output_type": "execute_result"
    }
   ],
   "source": [
    "data.head()"
   ]
  },
  {
   "cell_type": "code",
   "execution_count": 32,
   "id": "adf0d2eb-107a-4a07-960a-720d88fe5f77",
   "metadata": {},
   "outputs": [
    {
     "data": {
      "image/png": "[encoded data removed]",
      "text/plain": [
       "<Figure size 640x480 with 1 Axes>"
      ]
     },
     "metadata": {},
     "output_type": "display_data"
    }
   ],
   "source": [
    "sns.scatterplot(data=data,x='polarity',y='word_count')\n",
    "plt.show()"
   ]
  },
  {
   "cell_type": "code",
   "execution_count": 33,
   "id": "2895d752-143e-4a18-b272-d1edf0e27ecb",
   "metadata": {},
   "outputs": [],
   "source": [
    "tfidf_vectorizer = TfidfVectorizer()\n",
    "data['vector'] = [tfidf_vectorizer.fit_transform([i]).toarray() for i in data['Sentence']]"
   ]
  },
  {
   "cell_type": "code",
   "execution_count": 34,
   "id": "a17594c8-5cae-4731-acd1-ce490d0ef0c2",
   "metadata": {},
   "outputs": [
    {
     "data": {
      "text/html": [
       "<div>\n",
       "<style scoped>\n",
       "    .dataframe tbody tr th:only-of-type {\n",
       "        vertical-align: middle;\n",
       "    }\n",
       "\n",
       "    .dataframe tbody tr th {\n",
       "        vertical-align: top;\n",
       "    }\n",
       "\n",
       "    .dataframe thead th {\n",
       "        text-align: right;\n",
       "    }\n",
       "</style>\n",
       "<table border=\"1\" class=\"dataframe\">\n",
       "  <thead>\n",
       "    <tr style=\"text-align: right;\">\n",
       "      <th></th>\n",
       "      <th>id</th>\n",
       "      <th>Sentence</th>\n",
       "      <th>Aspect Term</th>\n",
       "      <th>polarity</th>\n",
       "      <th>from</th>\n",
       "      <th>to</th>\n",
       "      <th>word_count</th>\n",
       "      <th>vector</th>\n",
       "    </tr>\n",
       "  </thead>\n",
       "  <tbody>\n",
       "    <tr>\n",
       "      <th>0</th>\n",
       "      <td>3121</td>\n",
       "      <td>staff horribl us</td>\n",
       "      <td>staff</td>\n",
       "      <td>negative</td>\n",
       "      <td>8</td>\n",
       "      <td>13</td>\n",
       "      <td>3</td>\n",
       "      <td>[[0.5773502691896258, 0.5773502691896258, 0.57...</td>\n",
       "    </tr>\n",
       "    <tr>\n",
       "      <th>1</th>\n",
       "      <td>2777</td>\n",
       "      <td>complet fair redeem factor food averag couldnt...</td>\n",
       "      <td>food</td>\n",
       "      <td>positive</td>\n",
       "      <td>57</td>\n",
       "      <td>61</td>\n",
       "      <td>10</td>\n",
       "      <td>[[0.31622776601683794, 0.31622776601683794, 0....</td>\n",
       "    </tr>\n",
       "    <tr>\n",
       "      <th>2</th>\n",
       "      <td>1634</td>\n",
       "      <td>food uniformli except capabl kitchen proudli w...</td>\n",
       "      <td>food</td>\n",
       "      <td>positive</td>\n",
       "      <td>4</td>\n",
       "      <td>8</td>\n",
       "      <td>13</td>\n",
       "      <td>[[0.2773500981126146, 0.2773500981126146, 0.27...</td>\n",
       "    </tr>\n",
       "    <tr>\n",
       "      <th>3</th>\n",
       "      <td>1634</td>\n",
       "      <td>food uniformli except capabl kitchen proudli w...</td>\n",
       "      <td>kitchen</td>\n",
       "      <td>positive</td>\n",
       "      <td>55</td>\n",
       "      <td>62</td>\n",
       "      <td>13</td>\n",
       "      <td>[[0.2773500981126146, 0.2773500981126146, 0.27...</td>\n",
       "    </tr>\n",
       "    <tr>\n",
       "      <th>4</th>\n",
       "      <td>1634</td>\n",
       "      <td>food uniformli except capabl kitchen proudli w...</td>\n",
       "      <td>menu</td>\n",
       "      <td>neutral</td>\n",
       "      <td>141</td>\n",
       "      <td>145</td>\n",
       "      <td>13</td>\n",
       "      <td>[[0.2773500981126146, 0.2773500981126146, 0.27...</td>\n",
       "    </tr>\n",
       "  </tbody>\n",
       "</table>\n",
       "</div>"
      ],
      "text/plain": [
       "     id                                           Sentence Aspect Term  \\\n",
       "0  3121                                  staff horribl us       staff    \n",
       "1  2777  complet fair redeem factor food averag couldnt...       food    \n",
       "2  1634  food uniformli except capabl kitchen proudli w...       food    \n",
       "3  1634  food uniformli except capabl kitchen proudli w...    kitchen    \n",
       "4  1634  food uniformli except capabl kitchen proudli w...       menu    \n",
       "\n",
       "   polarity  from   to  word_count  \\\n",
       "0  negative     8   13           3   \n",
       "1  positive    57   61          10   \n",
       "2  positive     4    8          13   \n",
       "3  positive    55   62          13   \n",
       "4   neutral   141  145          13   \n",
       "\n",
       "                                              vector  \n",
       "0  [[0.5773502691896258, 0.5773502691896258, 0.57...  \n",
       "1  [[0.31622776601683794, 0.31622776601683794, 0....  \n",
       "2  [[0.2773500981126146, 0.2773500981126146, 0.27...  \n",
       "3  [[0.2773500981126146, 0.2773500981126146, 0.27...  \n",
       "4  [[0.2773500981126146, 0.2773500981126146, 0.27...  "
      ]
     },
     "execution_count": 34,
     "metadata": {},
     "output_type": "execute_result"
    }
   ],
   "source": [
    "data.head()"
   ]
  },
  {
   "cell_type": "markdown",
   "id": "4e5f85bc-c17c-43dc-8291-c8ff7c73de90",
   "metadata": {},
   "source": [
    "menghitung skor TF-IDF untuk setiap 'Aspect Term' dalam kalimat di kolom 'Sentence'. Skor ini dihitung menggunakan TfidfVectorizer untuk mengevaluasi seberapa penting 'Aspect Term' dalam konteks kalimatnya. Hasilnya disimpan dalam kolom baru bernama Aspect_TFIDF di dataset. Jika 'Aspect Term' tidak ada dalam kalimat, skornya diatur menjadi 0."
   ]
  },
  {
   "cell_type": "code",
   "execution_count": 35,
   "id": "0d0288b8-239e-442a-9298-917d9ae0f7d3",
   "metadata": {},
   "outputs": [],
   "source": [
    "%%capture\n",
    "def compute_aspect_tfidf(sentence, aspect_term):\n",
    "    # Membersihkan Aspect Term dari spasi\n",
    "    aspect_term = aspect_term.strip()\n",
    "    print(aspect_term)\n",
    "    \n",
    "    # Inisialisasi TfidfVectorizer\n",
    "    vectorizer = TfidfVectorizer()\n",
    "    \n",
    "    # Melakukan fit dan transformasi pada sentence\n",
    "    tfidf_matrix = vectorizer.fit_transform([sentence])\n",
    "    \n",
    "    # Mendapatkan nama fitur (kata-kata dalam kalimat)\n",
    "    feature_names = vectorizer.get_feature_names_out()\n",
    "    \n",
    "    # Mendapatkan skor TF-IDF sebagai array\n",
    "    tfidf_scores = tfidf_matrix.toarray().flatten()\n",
    "    print(feature_names.tolist())\n",
    "    \n",
    "    # Memeriksa apakah aspek term ada di dalam kosa kata\n",
    "    if aspect_term in feature_names:\n",
    "        # Mengembalikan skor TF-IDF untuk aspek term\n",
    "        return tfidf_scores[feature_names.tolist().index(aspect_term)]\n",
    "    else:\n",
    "        # Jika aspek term tidak ada dalam kosa kata, mengembalikan 0\n",
    "        return 0\n",
    "\n",
    "# Menerapkan fungsi untuk menghitung skor TF-IDF untuk setiap aspek term\n",
    "data['Aspect_TFIDF'] = [compute_aspect_tfidf(i, j) for i, j in zip(data['Sentence'], data['Aspect Term'])]"
   ]
  },
  {
   "cell_type": "code",
   "execution_count": 36,
   "id": "acdfb891-933d-4ab9-ba43-805e9faa9026",
   "metadata": {},
   "outputs": [
    {
     "data": {
      "text/html": [
       "<div>\n",
       "<style scoped>\n",
       "    .dataframe tbody tr th:only-of-type {\n",
       "        vertical-align: middle;\n",
       "    }\n",
       "\n",
       "    .dataframe tbody tr th {\n",
       "        vertical-align: top;\n",
       "    }\n",
       "\n",
       "    .dataframe thead th {\n",
       "        text-align: right;\n",
       "    }\n",
       "</style>\n",
       "<table border=\"1\" class=\"dataframe\">\n",
       "  <thead>\n",
       "    <tr style=\"text-align: right;\">\n",
       "      <th></th>\n",
       "      <th>id</th>\n",
       "      <th>Sentence</th>\n",
       "      <th>Aspect Term</th>\n",
       "      <th>polarity</th>\n",
       "      <th>from</th>\n",
       "      <th>to</th>\n",
       "      <th>word_count</th>\n",
       "      <th>vector</th>\n",
       "      <th>Aspect_TFIDF</th>\n",
       "    </tr>\n",
       "  </thead>\n",
       "  <tbody>\n",
       "    <tr>\n",
       "      <th>0</th>\n",
       "      <td>3121</td>\n",
       "      <td>staff horribl us</td>\n",
       "      <td>staff</td>\n",
       "      <td>negative</td>\n",
       "      <td>8</td>\n",
       "      <td>13</td>\n",
       "      <td>3</td>\n",
       "      <td>[[0.5773502691896258, 0.5773502691896258, 0.57...</td>\n",
       "      <td>0.577350</td>\n",
       "    </tr>\n",
       "    <tr>\n",
       "      <th>1</th>\n",
       "      <td>2777</td>\n",
       "      <td>complet fair redeem factor food averag couldnt...</td>\n",
       "      <td>food</td>\n",
       "      <td>positive</td>\n",
       "      <td>57</td>\n",
       "      <td>61</td>\n",
       "      <td>10</td>\n",
       "      <td>[[0.31622776601683794, 0.31622776601683794, 0....</td>\n",
       "      <td>0.316228</td>\n",
       "    </tr>\n",
       "    <tr>\n",
       "      <th>2</th>\n",
       "      <td>1634</td>\n",
       "      <td>food uniformli except capabl kitchen proudli w...</td>\n",
       "      <td>food</td>\n",
       "      <td>positive</td>\n",
       "      <td>4</td>\n",
       "      <td>8</td>\n",
       "      <td>13</td>\n",
       "      <td>[[0.2773500981126146, 0.2773500981126146, 0.27...</td>\n",
       "      <td>0.277350</td>\n",
       "    </tr>\n",
       "    <tr>\n",
       "      <th>3</th>\n",
       "      <td>1634</td>\n",
       "      <td>food uniformli except capabl kitchen proudli w...</td>\n",
       "      <td>kitchen</td>\n",
       "      <td>positive</td>\n",
       "      <td>55</td>\n",
       "      <td>62</td>\n",
       "      <td>13</td>\n",
       "      <td>[[0.2773500981126146, 0.2773500981126146, 0.27...</td>\n",
       "      <td>0.277350</td>\n",
       "    </tr>\n",
       "    <tr>\n",
       "      <th>4</th>\n",
       "      <td>1634</td>\n",
       "      <td>food uniformli except capabl kitchen proudli w...</td>\n",
       "      <td>menu</td>\n",
       "      <td>neutral</td>\n",
       "      <td>141</td>\n",
       "      <td>145</td>\n",
       "      <td>13</td>\n",
       "      <td>[[0.2773500981126146, 0.2773500981126146, 0.27...</td>\n",
       "      <td>0.277350</td>\n",
       "    </tr>\n",
       "  </tbody>\n",
       "</table>\n",
       "</div>"
      ],
      "text/plain": [
       "     id                                           Sentence Aspect Term  \\\n",
       "0  3121                                  staff horribl us       staff    \n",
       "1  2777  complet fair redeem factor food averag couldnt...       food    \n",
       "2  1634  food uniformli except capabl kitchen proudli w...       food    \n",
       "3  1634  food uniformli except capabl kitchen proudli w...    kitchen    \n",
       "4  1634  food uniformli except capabl kitchen proudli w...       menu    \n",
       "\n",
       "   polarity  from   to  word_count  \\\n",
       "0  negative     8   13           3   \n",
       "1  positive    57   61          10   \n",
       "2  positive     4    8          13   \n",
       "3  positive    55   62          13   \n",
       "4   neutral   141  145          13   \n",
       "\n",
       "                                              vector  Aspect_TFIDF  \n",
       "0  [[0.5773502691896258, 0.5773502691896258, 0.57...      0.577350  \n",
       "1  [[0.31622776601683794, 0.31622776601683794, 0....      0.316228  \n",
       "2  [[0.2773500981126146, 0.2773500981126146, 0.27...      0.277350  \n",
       "3  [[0.2773500981126146, 0.2773500981126146, 0.27...      0.277350  \n",
       "4  [[0.2773500981126146, 0.2773500981126146, 0.27...      0.277350  "
      ]
     },
     "execution_count": 36,
     "metadata": {},
     "output_type": "execute_result"
    }
   ],
   "source": [
    "data.head()"
   ]
  },
  {
   "cell_type": "code",
   "execution_count": 37,
   "id": "c3225aa6-8d36-473d-808d-5e5c6ed6f053",
   "metadata": {},
   "outputs": [],
   "source": [
    "# menghapus kolom from dan to (tidak diperlukan)\n",
    "data=data.drop(['from','to'],axis=1)"
   ]
  },
  {
   "cell_type": "markdown",
   "id": "64df4aae-38dd-4281-bfd3-379ad1eea168",
   "metadata": {},
   "source": [
    "Mengonversi nilai kategori pada kolom 'polarity' ('negative' = -1, 'neutral = 0', dan 'positive = 1', conflict =  2) menjadi nilai numerik "
   ]
  },
  {
   "cell_type": "code",
   "execution_count": 38,
   "id": "48fe2c8f-2415-495e-a30a-23294c2750f3",
   "metadata": {},
   "outputs": [
    {
     "data": {
      "text/html": [
       "<div>\n",
       "<style scoped>\n",
       "    .dataframe tbody tr th:only-of-type {\n",
       "        vertical-align: middle;\n",
       "    }\n",
       "\n",
       "    .dataframe tbody tr th {\n",
       "        vertical-align: top;\n",
       "    }\n",
       "\n",
       "    .dataframe thead th {\n",
       "        text-align: right;\n",
       "    }\n",
       "</style>\n",
       "<table border=\"1\" class=\"dataframe\">\n",
       "  <thead>\n",
       "    <tr style=\"text-align: right;\">\n",
       "      <th></th>\n",
       "      <th>id</th>\n",
       "      <th>Sentence</th>\n",
       "      <th>Aspect Term</th>\n",
       "      <th>polarity</th>\n",
       "      <th>word_count</th>\n",
       "      <th>vector</th>\n",
       "      <th>Aspect_TFIDF</th>\n",
       "    </tr>\n",
       "  </thead>\n",
       "  <tbody>\n",
       "    <tr>\n",
       "      <th>0</th>\n",
       "      <td>3121</td>\n",
       "      <td>staff horribl us</td>\n",
       "      <td>staff</td>\n",
       "      <td>-1</td>\n",
       "      <td>3</td>\n",
       "      <td>[[0.5773502691896258, 0.5773502691896258, 0.57...</td>\n",
       "      <td>0.577350</td>\n",
       "    </tr>\n",
       "    <tr>\n",
       "      <th>1</th>\n",
       "      <td>2777</td>\n",
       "      <td>complet fair redeem factor food averag couldnt...</td>\n",
       "      <td>food</td>\n",
       "      <td>1</td>\n",
       "      <td>10</td>\n",
       "      <td>[[0.31622776601683794, 0.31622776601683794, 0....</td>\n",
       "      <td>0.316228</td>\n",
       "    </tr>\n",
       "    <tr>\n",
       "      <th>2</th>\n",
       "      <td>1634</td>\n",
       "      <td>food uniformli except capabl kitchen proudli w...</td>\n",
       "      <td>food</td>\n",
       "      <td>1</td>\n",
       "      <td>13</td>\n",
       "      <td>[[0.2773500981126146, 0.2773500981126146, 0.27...</td>\n",
       "      <td>0.277350</td>\n",
       "    </tr>\n",
       "    <tr>\n",
       "      <th>3</th>\n",
       "      <td>1634</td>\n",
       "      <td>food uniformli except capabl kitchen proudli w...</td>\n",
       "      <td>kitchen</td>\n",
       "      <td>1</td>\n",
       "      <td>13</td>\n",
       "      <td>[[0.2773500981126146, 0.2773500981126146, 0.27...</td>\n",
       "      <td>0.277350</td>\n",
       "    </tr>\n",
       "    <tr>\n",
       "      <th>4</th>\n",
       "      <td>1634</td>\n",
       "      <td>food uniformli except capabl kitchen proudli w...</td>\n",
       "      <td>menu</td>\n",
       "      <td>0</td>\n",
       "      <td>13</td>\n",
       "      <td>[[0.2773500981126146, 0.2773500981126146, 0.27...</td>\n",
       "      <td>0.277350</td>\n",
       "    </tr>\n",
       "  </tbody>\n",
       "</table>\n",
       "</div>"
      ],
      "text/plain": [
       "     id                                           Sentence Aspect Term  \\\n",
       "0  3121                                  staff horribl us       staff    \n",
       "1  2777  complet fair redeem factor food averag couldnt...       food    \n",
       "2  1634  food uniformli except capabl kitchen proudli w...       food    \n",
       "3  1634  food uniformli except capabl kitchen proudli w...    kitchen    \n",
       "4  1634  food uniformli except capabl kitchen proudli w...       menu    \n",
       "\n",
       "   polarity  word_count                                             vector  \\\n",
       "0        -1           3  [[0.5773502691896258, 0.5773502691896258, 0.57...   \n",
       "1         1          10  [[0.31622776601683794, 0.31622776601683794, 0....   \n",
       "2         1          13  [[0.2773500981126146, 0.2773500981126146, 0.27...   \n",
       "3         1          13  [[0.2773500981126146, 0.2773500981126146, 0.27...   \n",
       "4         0          13  [[0.2773500981126146, 0.2773500981126146, 0.27...   \n",
       "\n",
       "   Aspect_TFIDF  \n",
       "0      0.577350  \n",
       "1      0.316228  \n",
       "2      0.277350  \n",
       "3      0.277350  \n",
       "4      0.277350  "
      ]
     },
     "execution_count": 38,
     "metadata": {},
     "output_type": "execute_result"
    }
   ],
   "source": [
    "def polarity_conv(i):\n",
    "    if i=='negative':\n",
    "        return -1\n",
    "    elif i=='neutral':\n",
    "        return 0\n",
    "    elif i=='positive':\n",
    "        return 1\n",
    "    else:\n",
    "        return 2\n",
    "data.polarity=[polarity_conv(i) for i in data['polarity']]\n",
    "data.head()"
   ]
  },
  {
   "cell_type": "code",
   "execution_count": 39,
   "id": "eccab053-6768-4a6f-9f3f-cfb357f05998",
   "metadata": {},
   "outputs": [],
   "source": [
    "data.to_csv('restaurant.csv')"
   ]
  },
  {
   "cell_type": "markdown",
   "id": "08ce46b0-1cdf-49f6-adfc-65eca1ccea72",
   "metadata": {},
   "source": [
    "# Modeling"
   ]
  },
  {
   "cell_type": "markdown",
   "id": "5294f842-385e-40ce-8039-edc0c1e26e17",
   "metadata": {},
   "source": [
    "Menggabungkan kolom 'Sentence' dan 'Aspect Term' menjadi satu fitur ('Combined'), mengubahnya menjadi vektor TF-IDF, lalu membagi data train dan test dengan proporsi 80% untuk pelatihan dan 20% untuk pengujian"
   ]
  },
  {
   "cell_type": "code",
   "execution_count": 40,
   "id": "3dbf2f75-7eed-4e47-81f8-2b1aa0da9226",
   "metadata": {},
   "outputs": [],
   "source": [
    "from sklearn.model_selection import train_test_split\n",
    "# Split into train and test\n",
    "data['Combined'] = data['Sentence'] + \" \" + data['Aspect Term']\n",
    "X = tfidf_vectorizer.fit_transform(data['Combined'])\n",
    "y = data['polarity']\n",
    "X_train, X_test, y_train, y_test = train_test_split(X, y, test_size=0.2, random_state=42)"
   ]
  },
  {
   "cell_type": "code",
   "execution_count": 41,
   "id": "11ad2e17-d758-4fe3-844f-5cfd18e1c9df",
   "metadata": {},
   "outputs": [
    {
     "data": {
      "text/html": [
       "<div>\n",
       "<style scoped>\n",
       "    .dataframe tbody tr th:only-of-type {\n",
       "        vertical-align: middle;\n",
       "    }\n",
       "\n",
       "    .dataframe tbody tr th {\n",
       "        vertical-align: top;\n",
       "    }\n",
       "\n",
       "    .dataframe thead th {\n",
       "        text-align: right;\n",
       "    }\n",
       "</style>\n",
       "<table border=\"1\" class=\"dataframe\">\n",
       "  <thead>\n",
       "    <tr style=\"text-align: right;\">\n",
       "      <th></th>\n",
       "      <th>id</th>\n",
       "      <th>Sentence</th>\n",
       "      <th>Aspect Term</th>\n",
       "      <th>polarity</th>\n",
       "      <th>word_count</th>\n",
       "      <th>vector</th>\n",
       "      <th>Aspect_TFIDF</th>\n",
       "      <th>Combined</th>\n",
       "    </tr>\n",
       "  </thead>\n",
       "  <tbody>\n",
       "    <tr>\n",
       "      <th>0</th>\n",
       "      <td>3121</td>\n",
       "      <td>staff horribl us</td>\n",
       "      <td>staff</td>\n",
       "      <td>-1</td>\n",
       "      <td>3</td>\n",
       "      <td>[[0.5773502691896258, 0.5773502691896258, 0.57...</td>\n",
       "      <td>0.577350</td>\n",
       "      <td>staff horribl us  staff</td>\n",
       "    </tr>\n",
       "    <tr>\n",
       "      <th>1</th>\n",
       "      <td>2777</td>\n",
       "      <td>complet fair redeem factor food averag couldnt...</td>\n",
       "      <td>food</td>\n",
       "      <td>1</td>\n",
       "      <td>10</td>\n",
       "      <td>[[0.31622776601683794, 0.31622776601683794, 0....</td>\n",
       "      <td>0.316228</td>\n",
       "      <td>complet fair redeem factor food averag couldnt...</td>\n",
       "    </tr>\n",
       "    <tr>\n",
       "      <th>2</th>\n",
       "      <td>1634</td>\n",
       "      <td>food uniformli except capabl kitchen proudli w...</td>\n",
       "      <td>food</td>\n",
       "      <td>1</td>\n",
       "      <td>13</td>\n",
       "      <td>[[0.2773500981126146, 0.2773500981126146, 0.27...</td>\n",
       "      <td>0.277350</td>\n",
       "      <td>food uniformli except capabl kitchen proudli w...</td>\n",
       "    </tr>\n",
       "    <tr>\n",
       "      <th>3</th>\n",
       "      <td>1634</td>\n",
       "      <td>food uniformli except capabl kitchen proudli w...</td>\n",
       "      <td>kitchen</td>\n",
       "      <td>1</td>\n",
       "      <td>13</td>\n",
       "      <td>[[0.2773500981126146, 0.2773500981126146, 0.27...</td>\n",
       "      <td>0.277350</td>\n",
       "      <td>food uniformli except capabl kitchen proudli w...</td>\n",
       "    </tr>\n",
       "    <tr>\n",
       "      <th>4</th>\n",
       "      <td>1634</td>\n",
       "      <td>food uniformli except capabl kitchen proudli w...</td>\n",
       "      <td>menu</td>\n",
       "      <td>0</td>\n",
       "      <td>13</td>\n",
       "      <td>[[0.2773500981126146, 0.2773500981126146, 0.27...</td>\n",
       "      <td>0.277350</td>\n",
       "      <td>food uniformli except capabl kitchen proudli w...</td>\n",
       "    </tr>\n",
       "  </tbody>\n",
       "</table>\n",
       "</div>"
      ],
      "text/plain": [
       "     id                                           Sentence Aspect Term  \\\n",
       "0  3121                                  staff horribl us       staff    \n",
       "1  2777  complet fair redeem factor food averag couldnt...       food    \n",
       "2  1634  food uniformli except capabl kitchen proudli w...       food    \n",
       "3  1634  food uniformli except capabl kitchen proudli w...    kitchen    \n",
       "4  1634  food uniformli except capabl kitchen proudli w...       menu    \n",
       "\n",
       "   polarity  word_count                                             vector  \\\n",
       "0        -1           3  [[0.5773502691896258, 0.5773502691896258, 0.57...   \n",
       "1         1          10  [[0.31622776601683794, 0.31622776601683794, 0....   \n",
       "2         1          13  [[0.2773500981126146, 0.2773500981126146, 0.27...   \n",
       "3         1          13  [[0.2773500981126146, 0.2773500981126146, 0.27...   \n",
       "4         0          13  [[0.2773500981126146, 0.2773500981126146, 0.27...   \n",
       "\n",
       "   Aspect_TFIDF                                           Combined  \n",
       "0      0.577350                           staff horribl us  staff   \n",
       "1      0.316228  complet fair redeem factor food averag couldnt...  \n",
       "2      0.277350  food uniformli except capabl kitchen proudli w...  \n",
       "3      0.277350  food uniformli except capabl kitchen proudli w...  \n",
       "4      0.277350  food uniformli except capabl kitchen proudli w...  "
      ]
     },
     "execution_count": 41,
     "metadata": {},
     "output_type": "execute_result"
    }
   ],
   "source": [
    "data.head()"
   ]
  },
  {
   "cell_type": "code",
   "execution_count": 77,
   "id": "fa671f96-55bd-4b74-8a0c-e6709373c84e",
   "metadata": {},
   "outputs": [
    {
     "name": "stdout",
     "output_type": "stream",
     "text": [
      "Accuracy: 0.6860622462787551\n"
     ]
    }
   ],
   "source": [
    "from sklearn.linear_model import LogisticRegression\n",
    "from sklearn.metrics import accuracy_score\n",
    "\n",
    "# Train logistic regression\n",
    "model = LogisticRegression()\n",
    "model.fit(X_train, y_train)\n",
    "\n",
    "# Evaluate on test set\n",
    "y_pred = model.predict(X_test)\n",
    "print(\"Accuracy:\", accuracy_score(y_test, y_pred))\n"
   ]
  },
  {
   "cell_type": "markdown",
   "id": "53a0b213-53b2-4110-9bd0-00225c407b90",
   "metadata": {},
   "source": [
    "Memprediksi sentimen berdasarkan input sentence dan aspect dengan menggunakan model yang telah dilatih. Sentences dan aspect digabung, diubah menjadi vektor TF-IDF, lalu diklasifikasikan oleh model."
   ]
  },
  {
   "cell_type": "code",
   "execution_count": 83,
   "id": "206f858b-344c-44ec-ad6b-2f631ab2885a",
   "metadata": {},
   "outputs": [],
   "source": [
    "def predict(sentence,aspect):\n",
    "    pred=model.predict(tfidf_vectorizer.transform([sentence+' '+aspect]))\n",
    "    if pred[0]==-1:\n",
    "        return 'Negative'\n",
    "    if pred[0]==0:\n",
    "        return 'Neutral'\n",
    "    if pred[0]==1:\n",
    "        return 'Positive'\n",
    "    else :\n",
    "        return 'Conflict'"
   ]
  },
  {
   "cell_type": "code",
   "execution_count": 82,
   "id": "13efe755-f959-4dbd-b733-d0f4e75161ef",
   "metadata": {},
   "outputs": [
    {
     "data": {
      "text/plain": [
       "'Negative'"
      ]
     },
     "execution_count": 82,
     "metadata": {},
     "output_type": "execute_result"
    }
   ],
   "source": [
    "predict('staff horribl us','staff')"
   ]
  },
  {
   "cell_type": "code",
   "execution_count": null,
   "id": "9ba3505f-01a2-42ed-8100-29c68e84f90c",
   "metadata": {},
   "outputs": [],
   "source": [
    "%%capture\n",
    "!python -m pip install -U \"setfit[absa]\"\n",
    "!python -m spacy download en_core_web_lg"
   ]
  },
  {
   "cell_type": "markdown",
   "id": "9ddf3e61-4425-4baf-8617-a9dfe5794174",
   "metadata": {},
   "source": [
    "Metode 2: \n",
    "\n",
    "Melakukan sentimen analisis aspek tertentu pada data restaurant (review) dengan Pre-Trained Model (deberta-v3-base-absa-v1.1). menghitung probabilitas sentimen dan mengembalikan hasil analisis dalam bentuk sentimen"
   ]
  },
  {
   "cell_type": "code",
   "execution_count": 11,
   "id": "1298cd2a-2c0d-48a4-b490-af0f21408df6",
   "metadata": {},
   "outputs": [],
   "source": [
    "from transformers import AutoTokenizer, AutoModelForSequenceClassification\n",
    "import torch.nn.functional as F\n",
    "\n",
    "# Load Aspect-Based Sentiment Analysis model\n",
    "absa_tokenizer = AutoTokenizer.from_pretrained(\"yangheng/deberta-v3-base-absa-v1.1\")\n",
    "absa_model = AutoModelForSequenceClassification.from_pretrained(\"yangheng/deberta-v3-base-absa-v1.1\")\n",
    "\n"
   ]
  },
  {
   "cell_type": "code",
   "execution_count": 12,
   "id": "8eae8a95-c778-4697-995a-11785f718f8c",
   "metadata": {},
   "outputs": [],
   "source": [
    "def analyze_aspect_sentiment(review, aspects, threshold=0.9):\n",
    "    # Analyze sentiment for specified aspects in the review\n",
    "    results = {}\n",
    "    for aspect in aspects:\n",
    "        # Check if the aspect is mentioned in the review\n",
    "        if aspect.lower() in review.lower():\n",
    "            inputs = absa_tokenizer(f\"[CLS] {review} [SEP] {aspect} [SEP]\", return_tensors=\"pt\")\n",
    "            outputs = absa_model(**inputs)\n",
    "            probs = F.softmax(outputs.logits, dim=1)\n",
    "            probs = probs.detach().numpy()[0]\n",
    "\n",
    "            # Extract the label with the highest probability\n",
    "            max_label, max_prob = max(zip([\"negative\", \"neutral\", \"positive\"], probs), key=lambda x: x[1])\n",
    "\n",
    "            # If the probability is above the threshold, store the result in the dictionary\n",
    "            if max_prob >= threshold:\n",
    "                results[aspect] = (max_label, max_prob)\n",
    "\n",
    "                # Print sentiment probabilities for the aspect\n",
    "                print(f\"Sentiment of aspect '{aspect}' in the sentence '{review}' is {max_label} with probability {max_prob:.4f}\")\n",
    "                print()\n",
    "\n",
    "    return results"
   ]
  },
  {
   "cell_type": "code",
   "execution_count": 13,
   "id": "6716d0e5-5a62-4cc6-90a0-a7ef2684aa98",
   "metadata": {},
   "outputs": [
    {
     "name": "stdout",
     "output_type": "stream",
     "text": [
      "\n",
      "Analyzing review: The food was delicious but the service was terrible.\n",
      "Sentiment of aspect 'food' in the sentence 'The food was delicious but the service was terrible.' is positive with probability 0.9977\n",
      "\n",
      "Sentiment of aspect 'service' in the sentence 'The food was delicious but the service was terrible.' is negative with probability 0.9930\n",
      "\n",
      "\n",
      "Analyzing review: The ambiance of the restaurant was great, but the staff was unfriendly.\n",
      "Sentiment of aspect 'staff' in the sentence 'The ambiance of the restaurant was great, but the staff was unfriendly.' is negative with probability 0.9955\n",
      "\n",
      "Sentiment of aspect 'restaurant ' in the sentence 'The ambiance of the restaurant was great, but the staff was unfriendly.' is neutral with probability 0.9044\n",
      "\n",
      "\n",
      "Analyzing review: The drinks were amazing, and the staff provided excellent service.\n",
      "Sentiment of aspect 'service' in the sentence 'The drinks were amazing, and the staff provided excellent service.' is positive with probability 0.9955\n",
      "\n",
      "Sentiment of aspect 'staff' in the sentence 'The drinks were amazing, and the staff provided excellent service.' is positive with probability 0.9007\n",
      "\n",
      "Sentiment of aspect 'drink' in the sentence 'The drinks were amazing, and the staff provided excellent service.' is positive with probability 0.9934\n",
      "\n",
      "\n",
      "Final results:\n",
      "\n",
      "Review: The food was delicious but the service was terrible.\n",
      "Food -> Positive with probability 0.9977\n",
      "Service -> Negative with probability 0.9930\n",
      "\n",
      "Review: The ambiance of the restaurant was great, but the staff was unfriendly.\n",
      "Staff -> Negative with probability 0.9955\n",
      "Restaurant  -> Neutral with probability 0.9044\n",
      "\n",
      "Review: The drinks were amazing, and the staff provided excellent service.\n",
      "Service -> Positive with probability 0.9955\n",
      "Staff -> Positive with probability 0.9007\n",
      "Drink -> Positive with probability 0.9934\n"
     ]
    }
   ],
   "source": [
    "# Example reviews\n",
    "reviews = [\n",
    "    \"The food was delicious but the service was terrible.\",\n",
    "    \"The ambiance of the restaurant was great, but the staff was unfriendly.\",\n",
    "    \"The drinks were amazing, and the staff provided excellent service.\"\n",
    "]\n",
    "\n",
    "# List of aspects to analyze\n",
    "aspects_to_analyze = [\"food\", \"service\", \"ambience\", \"staff\", \"drink\", \"price\", \"restaurant \", \"behaviour\", \"recommendation\"]\n",
    "\n",
    "# Set the probability threshold\n",
    "threshold = 0.9\n",
    "\n",
    "# Analyze sentiment for each aspect in each review\n",
    "all_results = {}\n",
    "for review in reviews:\n",
    "    print(f\"\\nAnalyzing review: {review}\")\n",
    "    results = analyze_aspect_sentiment(review, aspects_to_analyze, threshold)\n",
    "    all_results[review] = results\n",
    "\n",
    "# The final results\n",
    "print(\"\\nFinal results:\")\n",
    "for review, results in all_results.items():\n",
    "    print(f\"\\nReview: {review}\")\n",
    "    for aspect, (label, prob) in results.items():\n",
    "        print(f\"{aspect.capitalize()} -> {label.capitalize()} with probability {prob:.4f}\")"
   ]
  },
  {
   "cell_type": "code",
   "execution_count": null,
   "id": "c0a9f5d2-4ac2-4b5e-87e5-1f28b95c9035",
   "metadata": {},
   "outputs": [],
   "source": []
  }
 ],
 "metadata": {
  "kernelspec": {
   "display_name": "itb_env",
   "language": "python",
   "name": "itb_env"
  },
  "language_info": {
   "codemirror_mode": {
    "name": "ipython",
    "version": 3
   },
   "file_extension": ".py",
   "mimetype": "text/x-python",
   "name": "python",
   "nbconvert_exporter": "python",
   "pygments_lexer": "ipython3",
   "version": "3.11.10"
  }
 },
 "nbformat": 4,
 "nbformat_minor": 5
}
